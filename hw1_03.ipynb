{
 "cells": [
  {
   "cell_type": "code",
   "execution_count": 66,
   "id": "8136add3",
   "metadata": {},
   "outputs": [],
   "source": [
    "import numpy as np"
   ]
  },
  {
   "cell_type": "code",
   "execution_count": 67,
   "id": "08691238",
   "metadata": {},
   "outputs": [],
   "source": [
    "m1 = np.matrix(\"3,0,3;6,0.25,0;1,0.33,1\")"
   ]
  },
  {
   "cell_type": "code",
   "execution_count": 68,
   "id": "7970935d",
   "metadata": {},
   "outputs": [],
   "source": [
    "m2 = np.matrix(\"1;1;1\")"
   ]
  },
  {
   "cell_type": "code",
   "execution_count": 69,
   "id": "656558cb",
   "metadata": {},
   "outputs": [],
   "source": [
    "x = np.linalg.solve(m1, m2)"
   ]
  },
  {
   "cell_type": "code",
   "execution_count": 70,
   "id": "c9f0132b",
   "metadata": {},
   "outputs": [
    {
     "name": "stdout",
     "output_type": "stream",
     "text": [
      "[[0.08249158]\n",
      " [2.02020202]\n",
      " [0.25084175]]\n"
     ]
    }
   ],
   "source": [
    "print(x)"
   ]
  },
  {
   "cell_type": "code",
   "execution_count": 103,
   "id": "ed81acef",
   "metadata": {},
   "outputs": [
    {
     "name": "stdout",
     "output_type": "stream",
     "text": [
      "0\n",
      "2\n",
      "0\n"
     ]
    }
   ],
   "source": [
    "u = x[0, 0]\n",
    "v = x[1, 0]\n",
    "w = x[2, 0]\n",
    "print(round(u))\n",
    "print(round(v))\n",
    "print(round(w))"
   ]
  },
  {
   "cell_type": "code",
   "execution_count": 104,
   "id": "c5cc85dd",
   "metadata": {},
   "outputs": [
    {
     "name": "stdout",
     "output_type": "stream",
     "text": [
      "0.08249158249158249 2.0202020202020203 0.25084175084175087\n"
     ]
    }
   ],
   "source": [
    "print(u, v, w)"
   ]
  },
  {
   "cell_type": "code",
   "execution_count": 105,
   "id": "9e7bdb97",
   "metadata": {},
   "outputs": [],
   "source": [
    "def get_number(n) -> int:\n",
    "    z = 1 / n\n",
    "    z = round(z)\n",
    "    return z"
   ]
  },
  {
   "cell_type": "code",
   "execution_count": 106,
   "id": "34c8230f",
   "metadata": {},
   "outputs": [
    {
     "name": "stdout",
     "output_type": "stream",
     "text": [
      "12\n",
      "0\n",
      "4\n"
     ]
    }
   ],
   "source": [
    "a_2 = get_number(u)\n",
    "b_2 = get_number(v)\n",
    "c_2 = get_number(w)\n",
    "print(a_2)\n",
    "print(b_2)\n",
    "print(c_2)"
   ]
  }
 ],
 "metadata": {
  "kernelspec": {
   "display_name": "Python 3 (ipykernel)",
   "language": "python",
   "name": "python3"
  },
  "language_info": {
   "codemirror_mode": {
    "name": "ipython",
    "version": 3
   },
   "file_extension": ".py",
   "mimetype": "text/x-python",
   "name": "python",
   "nbconvert_exporter": "python",
   "pygments_lexer": "ipython3",
   "version": "3.10.8"
  }
 },
 "nbformat": 4,
 "nbformat_minor": 5
}
